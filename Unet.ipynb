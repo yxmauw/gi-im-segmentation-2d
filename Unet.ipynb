{
  "nbformat": 4,
  "nbformat_minor": 0,
  "metadata": {
    "colab": {
      "provenance": [],
      "authorship_tag": "ABX9TyM9vToie6h1l/o1cHyYUENC",
      "include_colab_link": true
    },
    "kernelspec": {
      "name": "python3",
      "display_name": "Python 3"
    },
    "language_info": {
      "name": "python"
    }
  },
  "cells": [
    {
      "cell_type": "markdown",
      "metadata": {
        "id": "view-in-github",
        "colab_type": "text"
      },
      "source": [
        "<a href=\"https://colab.research.google.com/github/yxmauw/gi-im-segmentation-2d/blob/main/Unet.ipynb\" target=\"_parent\"><img src=\"https://colab.research.google.com/assets/colab-badge.svg\" alt=\"Open In Colab\"/></a>"
      ]
    },
    {
      "cell_type": "markdown",
      "source": [
        "# Set up environment"
      ],
      "metadata": {
        "id": "4Q-bXDlRhlam"
      }
    },
    {
      "cell_type": "code",
      "execution_count": 1,
      "metadata": {
        "id": "V0gU1MI5a__S",
        "colab": {
          "base_uri": "https://localhost:8080/"
        },
        "outputId": "a59fdd84-c102-45d9-88b7-0dd6a30998cf"
      },
      "outputs": [
        {
          "output_type": "stream",
          "name": "stdout",
          "text": [
            "Mounted at /content/drive\n"
          ]
        }
      ],
      "source": [
        "# mount google drive\n",
        "from google.colab import drive\n",
        "drive.mount('/content/drive', force_remount=True)"
      ]
    },
    {
      "cell_type": "code",
      "source": [
        "!git clone https://github.com/yxmauw/gi-im-segmentation-2d.git"
      ],
      "metadata": {
        "colab": {
          "base_uri": "https://localhost:8080/"
        },
        "id": "DZ4XdWHZjVWc",
        "outputId": "c32585a7-a2ea-4bb6-d786-1b38224586a1"
      },
      "execution_count": 2,
      "outputs": [
        {
          "output_type": "stream",
          "name": "stdout",
          "text": [
            "Cloning into 'gi-im-segmentation-2d'...\n",
            "remote: Enumerating objects: 22, done.\u001b[K\n",
            "remote: Counting objects: 100% (22/22), done.\u001b[K\n",
            "remote: Compressing objects: 100% (22/22), done.\u001b[K\n",
            "remote: Total 22 (delta 8), reused 0 (delta 0), pack-reused 0\u001b[K\n",
            "Unpacking objects: 100% (22/22), done.\n"
          ]
        }
      ]
    },
    {
      "cell_type": "code",
      "source": [
        "!mkdir ~/.kaggle #Make a directory named “.kaggle”"
      ],
      "metadata": {
        "id": "ffG3etu0jszn"
      },
      "execution_count": 3,
      "outputs": []
    },
    {
      "cell_type": "code",
      "source": [
        "!cp ./gi-im-segmentation-2d//kaggle.json ~/.kaggle/ # Copy the “kaggle.json” into this new directory"
      ],
      "metadata": {
        "id": "4L57Burpjwb4"
      },
      "execution_count": 4,
      "outputs": []
    },
    {
      "cell_type": "code",
      "source": [
        "!chmod 600 ~/.kaggle/kaggle.json # Allocate the required permission for this file"
      ],
      "metadata": {
        "id": "kbNWMAlyj7yt"
      },
      "execution_count": 5,
      "outputs": []
    },
    {
      "cell_type": "code",
      "source": [
        "!kaggle competitions download -c uw-madison-gi-tract-image-segmentation # download dataset"
      ],
      "metadata": {
        "colab": {
          "base_uri": "https://localhost:8080/"
        },
        "id": "rIonGTTOkAi1",
        "outputId": "c15c3120-0e1c-4eb6-eb64-a875b1b0711a"
      },
      "execution_count": 6,
      "outputs": [
        {
          "output_type": "stream",
          "name": "stdout",
          "text": [
            "Downloading uw-madison-gi-tract-image-segmentation.zip to /content\n",
            "100% 2.30G/2.30G [01:43<00:00, 23.1MB/s]\n",
            "100% 2.30G/2.30G [01:43<00:00, 23.7MB/s]\n"
          ]
        }
      ]
    },
    {
      "cell_type": "code",
      "source": [
        "!unzip uw-madison-gi-tract-image-segmentation.zip #unzip folders"
      ],
      "metadata": {
        "id": "lRgIkTv9kRfV"
      },
      "execution_count": null,
      "outputs": []
    },
    {
      "cell_type": "markdown",
      "source": [
        "# Data\n",
        "\n",
        "Since unable to submit for kaggle score, must generate train, validation and test set from training set"
      ],
      "metadata": {
        "id": "VvS3GTvSk5f3"
      }
    },
    {
      "cell_type": "code",
      "source": [
        "import numpy as np\n",
        "import pandas as pd"
      ],
      "metadata": {
        "id": "1ydgJwHqk6kN"
      },
      "execution_count": 8,
      "outputs": []
    },
    {
      "cell_type": "code",
      "source": [
        "# read mask annotations\n",
        "mask_df = pd.read_csv('train.csv')\n",
        "print(len(mask_df))\n",
        "\n",
        "# find out how many slices have mask\n",
        "im_with_mask = mask_df.loc[mask_df['segmentation'].isnull()==False, :]\n",
        "print(len(im_with_mask))\n",
        "display(im_with_mask.head(3))"
      ],
      "metadata": {
        "colab": {
          "base_uri": "https://localhost:8080/",
          "height": 178
        },
        "id": "Au0fKWbAmNDY",
        "outputId": "2a87631f-3be1-4e79-a3d2-2b95f81ab874"
      },
      "execution_count": 9,
      "outputs": [
        {
          "output_type": "stream",
          "name": "stdout",
          "text": [
            "115488\n",
            "33913\n"
          ]
        },
        {
          "output_type": "display_data",
          "data": {
            "text/plain": [
              "                           id    class  \\\n",
              "194  case123_day20_slice_0065  stomach   \n",
              "197  case123_day20_slice_0066  stomach   \n",
              "200  case123_day20_slice_0067  stomach   \n",
              "\n",
              "                                          segmentation  \n",
              "194  28094 3 28358 7 28623 9 28889 9 29155 9 29421 ...  \n",
              "197  27561 8 27825 11 28090 13 28355 14 28620 15 28...  \n",
              "200  15323 4 15587 8 15852 10 16117 11 16383 12 166...  "
            ],
            "text/html": [
              "\n",
              "  <div id=\"df-733a9ed0-d4cd-4168-a336-b41af8211c30\">\n",
              "    <div class=\"colab-df-container\">\n",
              "      <div>\n",
              "<style scoped>\n",
              "    .dataframe tbody tr th:only-of-type {\n",
              "        vertical-align: middle;\n",
              "    }\n",
              "\n",
              "    .dataframe tbody tr th {\n",
              "        vertical-align: top;\n",
              "    }\n",
              "\n",
              "    .dataframe thead th {\n",
              "        text-align: right;\n",
              "    }\n",
              "</style>\n",
              "<table border=\"1\" class=\"dataframe\">\n",
              "  <thead>\n",
              "    <tr style=\"text-align: right;\">\n",
              "      <th></th>\n",
              "      <th>id</th>\n",
              "      <th>class</th>\n",
              "      <th>segmentation</th>\n",
              "    </tr>\n",
              "  </thead>\n",
              "  <tbody>\n",
              "    <tr>\n",
              "      <th>194</th>\n",
              "      <td>case123_day20_slice_0065</td>\n",
              "      <td>stomach</td>\n",
              "      <td>28094 3 28358 7 28623 9 28889 9 29155 9 29421 ...</td>\n",
              "    </tr>\n",
              "    <tr>\n",
              "      <th>197</th>\n",
              "      <td>case123_day20_slice_0066</td>\n",
              "      <td>stomach</td>\n",
              "      <td>27561 8 27825 11 28090 13 28355 14 28620 15 28...</td>\n",
              "    </tr>\n",
              "    <tr>\n",
              "      <th>200</th>\n",
              "      <td>case123_day20_slice_0067</td>\n",
              "      <td>stomach</td>\n",
              "      <td>15323 4 15587 8 15852 10 16117 11 16383 12 166...</td>\n",
              "    </tr>\n",
              "  </tbody>\n",
              "</table>\n",
              "</div>\n",
              "      <button class=\"colab-df-convert\" onclick=\"convertToInteractive('df-733a9ed0-d4cd-4168-a336-b41af8211c30')\"\n",
              "              title=\"Convert this dataframe to an interactive table.\"\n",
              "              style=\"display:none;\">\n",
              "        \n",
              "  <svg xmlns=\"http://www.w3.org/2000/svg\" height=\"24px\"viewBox=\"0 0 24 24\"\n",
              "       width=\"24px\">\n",
              "    <path d=\"M0 0h24v24H0V0z\" fill=\"none\"/>\n",
              "    <path d=\"M18.56 5.44l.94 2.06.94-2.06 2.06-.94-2.06-.94-.94-2.06-.94 2.06-2.06.94zm-11 1L8.5 8.5l.94-2.06 2.06-.94-2.06-.94L8.5 2.5l-.94 2.06-2.06.94zm10 10l.94 2.06.94-2.06 2.06-.94-2.06-.94-.94-2.06-.94 2.06-2.06.94z\"/><path d=\"M17.41 7.96l-1.37-1.37c-.4-.4-.92-.59-1.43-.59-.52 0-1.04.2-1.43.59L10.3 9.45l-7.72 7.72c-.78.78-.78 2.05 0 2.83L4 21.41c.39.39.9.59 1.41.59.51 0 1.02-.2 1.41-.59l7.78-7.78 2.81-2.81c.8-.78.8-2.07 0-2.86zM5.41 20L4 18.59l7.72-7.72 1.47 1.35L5.41 20z\"/>\n",
              "  </svg>\n",
              "      </button>\n",
              "      \n",
              "  <style>\n",
              "    .colab-df-container {\n",
              "      display:flex;\n",
              "      flex-wrap:wrap;\n",
              "      gap: 12px;\n",
              "    }\n",
              "\n",
              "    .colab-df-convert {\n",
              "      background-color: #E8F0FE;\n",
              "      border: none;\n",
              "      border-radius: 50%;\n",
              "      cursor: pointer;\n",
              "      display: none;\n",
              "      fill: #1967D2;\n",
              "      height: 32px;\n",
              "      padding: 0 0 0 0;\n",
              "      width: 32px;\n",
              "    }\n",
              "\n",
              "    .colab-df-convert:hover {\n",
              "      background-color: #E2EBFA;\n",
              "      box-shadow: 0px 1px 2px rgba(60, 64, 67, 0.3), 0px 1px 3px 1px rgba(60, 64, 67, 0.15);\n",
              "      fill: #174EA6;\n",
              "    }\n",
              "\n",
              "    [theme=dark] .colab-df-convert {\n",
              "      background-color: #3B4455;\n",
              "      fill: #D2E3FC;\n",
              "    }\n",
              "\n",
              "    [theme=dark] .colab-df-convert:hover {\n",
              "      background-color: #434B5C;\n",
              "      box-shadow: 0px 1px 3px 1px rgba(0, 0, 0, 0.15);\n",
              "      filter: drop-shadow(0px 1px 2px rgba(0, 0, 0, 0.3));\n",
              "      fill: #FFFFFF;\n",
              "    }\n",
              "  </style>\n",
              "\n",
              "      <script>\n",
              "        const buttonEl =\n",
              "          document.querySelector('#df-733a9ed0-d4cd-4168-a336-b41af8211c30 button.colab-df-convert');\n",
              "        buttonEl.style.display =\n",
              "          google.colab.kernel.accessAllowed ? 'block' : 'none';\n",
              "\n",
              "        async function convertToInteractive(key) {\n",
              "          const element = document.querySelector('#df-733a9ed0-d4cd-4168-a336-b41af8211c30');\n",
              "          const dataTable =\n",
              "            await google.colab.kernel.invokeFunction('convertToInteractive',\n",
              "                                                     [key], {});\n",
              "          if (!dataTable) return;\n",
              "\n",
              "          const docLinkHtml = 'Like what you see? Visit the ' +\n",
              "            '<a target=\"_blank\" href=https://colab.research.google.com/notebooks/data_table.ipynb>data table notebook</a>'\n",
              "            + ' to learn more about interactive tables.';\n",
              "          element.innerHTML = '';\n",
              "          dataTable['output_type'] = 'display_data';\n",
              "          await google.colab.output.renderOutput(dataTable, element);\n",
              "          const docLink = document.createElement('div');\n",
              "          docLink.innerHTML = docLinkHtml;\n",
              "          element.appendChild(docLink);\n",
              "        }\n",
              "      </script>\n",
              "    </div>\n",
              "  </div>\n",
              "  "
            ]
          },
          "metadata": {}
        }
      ]
    },
    {
      "cell_type": "code",
      "source": [
        "im_with_mask['class'].value_counts()"
      ],
      "metadata": {
        "colab": {
          "base_uri": "https://localhost:8080/"
        },
        "id": "M-flCbal6-6M",
        "outputId": "06a149c5-3cc6-4f5a-a283-affb70bc6de9"
      },
      "execution_count": 15,
      "outputs": [
        {
          "output_type": "execute_result",
          "data": {
            "text/plain": [
              "large_bowel    14085\n",
              "small_bowel    11201\n",
              "stomach         8627\n",
              "Name: class, dtype: int64"
            ]
          },
          "metadata": {},
          "execution_count": 15
        }
      ]
    },
    {
      "cell_type": "code",
      "source": [
        "mask_df['class'].value_counts()"
      ],
      "metadata": {
        "colab": {
          "base_uri": "https://localhost:8080/"
        },
        "id": "Xwb5VwGn7G5I",
        "outputId": "92369be7-8740-4c17-8bec-3109b8f9e405"
      },
      "execution_count": 16,
      "outputs": [
        {
          "output_type": "execute_result",
          "data": {
            "text/plain": [
              "large_bowel    38496\n",
              "small_bowel    38496\n",
              "stomach        38496\n",
              "Name: class, dtype: int64"
            ]
          },
          "metadata": {},
          "execution_count": 16
        }
      ]
    },
    {
      "cell_type": "markdown",
      "source": [
        "Only consider the image slices that have segmentation masks. So that is 33,913 image slices.\n",
        "\n",
        "According to other users on Kaggle, case7 and case81 are segmented incorrectly"
      ],
      "metadata": {
        "id": "4bfO1gpyq89o"
      }
    },
    {
      "cell_type": "code",
      "source": [
        "# using regex to extract case numbers into a new column from im_with_mask\n",
        "im_with_mask['case'] = im_with_mask.id.str.extract(r'(case[0-9]+)', \n",
        "                                     expand = True)\n",
        "im_with_mask.head(3)"
      ],
      "metadata": {
        "colab": {
          "base_uri": "https://localhost:8080/",
          "height": 268
        },
        "id": "7D0ko76r94nF",
        "outputId": "d25f5b99-95a0-4519-bda1-6868e69256d6"
      },
      "execution_count": 21,
      "outputs": [
        {
          "output_type": "stream",
          "name": "stderr",
          "text": [
            "/usr/local/lib/python3.7/dist-packages/ipykernel_launcher.py:3: SettingWithCopyWarning: \n",
            "A value is trying to be set on a copy of a slice from a DataFrame.\n",
            "Try using .loc[row_indexer,col_indexer] = value instead\n",
            "\n",
            "See the caveats in the documentation: https://pandas.pydata.org/pandas-docs/stable/user_guide/indexing.html#returning-a-view-versus-a-copy\n",
            "  This is separate from the ipykernel package so we can avoid doing imports until\n"
          ]
        },
        {
          "output_type": "execute_result",
          "data": {
            "text/plain": [
              "                           id    class  \\\n",
              "194  case123_day20_slice_0065  stomach   \n",
              "197  case123_day20_slice_0066  stomach   \n",
              "200  case123_day20_slice_0067  stomach   \n",
              "\n",
              "                                          segmentation     case  \n",
              "194  28094 3 28358 7 28623 9 28889 9 29155 9 29421 ...  case123  \n",
              "197  27561 8 27825 11 28090 13 28355 14 28620 15 28...  case123  \n",
              "200  15323 4 15587 8 15852 10 16117 11 16383 12 166...  case123  "
            ],
            "text/html": [
              "\n",
              "  <div id=\"df-2d60c0b8-c5a7-4e9a-bb50-64a6463a4ff0\">\n",
              "    <div class=\"colab-df-container\">\n",
              "      <div>\n",
              "<style scoped>\n",
              "    .dataframe tbody tr th:only-of-type {\n",
              "        vertical-align: middle;\n",
              "    }\n",
              "\n",
              "    .dataframe tbody tr th {\n",
              "        vertical-align: top;\n",
              "    }\n",
              "\n",
              "    .dataframe thead th {\n",
              "        text-align: right;\n",
              "    }\n",
              "</style>\n",
              "<table border=\"1\" class=\"dataframe\">\n",
              "  <thead>\n",
              "    <tr style=\"text-align: right;\">\n",
              "      <th></th>\n",
              "      <th>id</th>\n",
              "      <th>class</th>\n",
              "      <th>segmentation</th>\n",
              "      <th>case</th>\n",
              "    </tr>\n",
              "  </thead>\n",
              "  <tbody>\n",
              "    <tr>\n",
              "      <th>194</th>\n",
              "      <td>case123_day20_slice_0065</td>\n",
              "      <td>stomach</td>\n",
              "      <td>28094 3 28358 7 28623 9 28889 9 29155 9 29421 ...</td>\n",
              "      <td>case123</td>\n",
              "    </tr>\n",
              "    <tr>\n",
              "      <th>197</th>\n",
              "      <td>case123_day20_slice_0066</td>\n",
              "      <td>stomach</td>\n",
              "      <td>27561 8 27825 11 28090 13 28355 14 28620 15 28...</td>\n",
              "      <td>case123</td>\n",
              "    </tr>\n",
              "    <tr>\n",
              "      <th>200</th>\n",
              "      <td>case123_day20_slice_0067</td>\n",
              "      <td>stomach</td>\n",
              "      <td>15323 4 15587 8 15852 10 16117 11 16383 12 166...</td>\n",
              "      <td>case123</td>\n",
              "    </tr>\n",
              "  </tbody>\n",
              "</table>\n",
              "</div>\n",
              "      <button class=\"colab-df-convert\" onclick=\"convertToInteractive('df-2d60c0b8-c5a7-4e9a-bb50-64a6463a4ff0')\"\n",
              "              title=\"Convert this dataframe to an interactive table.\"\n",
              "              style=\"display:none;\">\n",
              "        \n",
              "  <svg xmlns=\"http://www.w3.org/2000/svg\" height=\"24px\"viewBox=\"0 0 24 24\"\n",
              "       width=\"24px\">\n",
              "    <path d=\"M0 0h24v24H0V0z\" fill=\"none\"/>\n",
              "    <path d=\"M18.56 5.44l.94 2.06.94-2.06 2.06-.94-2.06-.94-.94-2.06-.94 2.06-2.06.94zm-11 1L8.5 8.5l.94-2.06 2.06-.94-2.06-.94L8.5 2.5l-.94 2.06-2.06.94zm10 10l.94 2.06.94-2.06 2.06-.94-2.06-.94-.94-2.06-.94 2.06-2.06.94z\"/><path d=\"M17.41 7.96l-1.37-1.37c-.4-.4-.92-.59-1.43-.59-.52 0-1.04.2-1.43.59L10.3 9.45l-7.72 7.72c-.78.78-.78 2.05 0 2.83L4 21.41c.39.39.9.59 1.41.59.51 0 1.02-.2 1.41-.59l7.78-7.78 2.81-2.81c.8-.78.8-2.07 0-2.86zM5.41 20L4 18.59l7.72-7.72 1.47 1.35L5.41 20z\"/>\n",
              "  </svg>\n",
              "      </button>\n",
              "      \n",
              "  <style>\n",
              "    .colab-df-container {\n",
              "      display:flex;\n",
              "      flex-wrap:wrap;\n",
              "      gap: 12px;\n",
              "    }\n",
              "\n",
              "    .colab-df-convert {\n",
              "      background-color: #E8F0FE;\n",
              "      border: none;\n",
              "      border-radius: 50%;\n",
              "      cursor: pointer;\n",
              "      display: none;\n",
              "      fill: #1967D2;\n",
              "      height: 32px;\n",
              "      padding: 0 0 0 0;\n",
              "      width: 32px;\n",
              "    }\n",
              "\n",
              "    .colab-df-convert:hover {\n",
              "      background-color: #E2EBFA;\n",
              "      box-shadow: 0px 1px 2px rgba(60, 64, 67, 0.3), 0px 1px 3px 1px rgba(60, 64, 67, 0.15);\n",
              "      fill: #174EA6;\n",
              "    }\n",
              "\n",
              "    [theme=dark] .colab-df-convert {\n",
              "      background-color: #3B4455;\n",
              "      fill: #D2E3FC;\n",
              "    }\n",
              "\n",
              "    [theme=dark] .colab-df-convert:hover {\n",
              "      background-color: #434B5C;\n",
              "      box-shadow: 0px 1px 3px 1px rgba(0, 0, 0, 0.15);\n",
              "      filter: drop-shadow(0px 1px 2px rgba(0, 0, 0, 0.3));\n",
              "      fill: #FFFFFF;\n",
              "    }\n",
              "  </style>\n",
              "\n",
              "      <script>\n",
              "        const buttonEl =\n",
              "          document.querySelector('#df-2d60c0b8-c5a7-4e9a-bb50-64a6463a4ff0 button.colab-df-convert');\n",
              "        buttonEl.style.display =\n",
              "          google.colab.kernel.accessAllowed ? 'block' : 'none';\n",
              "\n",
              "        async function convertToInteractive(key) {\n",
              "          const element = document.querySelector('#df-2d60c0b8-c5a7-4e9a-bb50-64a6463a4ff0');\n",
              "          const dataTable =\n",
              "            await google.colab.kernel.invokeFunction('convertToInteractive',\n",
              "                                                     [key], {});\n",
              "          if (!dataTable) return;\n",
              "\n",
              "          const docLinkHtml = 'Like what you see? Visit the ' +\n",
              "            '<a target=\"_blank\" href=https://colab.research.google.com/notebooks/data_table.ipynb>data table notebook</a>'\n",
              "            + ' to learn more about interactive tables.';\n",
              "          element.innerHTML = '';\n",
              "          dataTable['output_type'] = 'display_data';\n",
              "          await google.colab.output.renderOutput(dataTable, element);\n",
              "          const docLink = document.createElement('div');\n",
              "          docLink.innerHTML = docLinkHtml;\n",
              "          element.appendChild(docLink);\n",
              "        }\n",
              "      </script>\n",
              "    </div>\n",
              "  </div>\n",
              "  "
            ]
          },
          "metadata": {},
          "execution_count": 21
        }
      ]
    },
    {
      "cell_type": "code",
      "source": [
        "# how many unique cases in im_with_mask\n",
        "display(im_with_mask['case'].unique())\n",
        "print(len(im_with_mask['case'].unique()))"
      ],
      "metadata": {
        "colab": {
          "base_uri": "https://localhost:8080/",
          "height": 295
        },
        "id": "mKRjJ_WM_ZDn",
        "outputId": "73c62311-cdd6-402f-f873-a4e076e9ae46"
      },
      "execution_count": 28,
      "outputs": [
        {
          "output_type": "display_data",
          "data": {
            "text/plain": [
              "array(['case123', 'case77', 'case133', 'case129', 'case139', 'case130',\n",
              "       'case88', 'case44', 'case145', 'case15', 'case110', 'case42',\n",
              "       'case118', 'case66', 'case91', 'case142', 'case58', 'case63',\n",
              "       'case114', 'case102', 'case115', 'case65', 'case53', 'case122',\n",
              "       'case125', 'case117', 'case140', 'case134', 'case9', 'case113',\n",
              "       'case90', 'case49', 'case19', 'case6', 'case67', 'case154',\n",
              "       'case135', 'case84', 'case147', 'case101', 'case7', 'case119',\n",
              "       'case32', 'case24', 'case33', 'case22', 'case149', 'case11',\n",
              "       'case148', 'case124', 'case111', 'case89', 'case136', 'case116',\n",
              "       'case143', 'case35', 'case108', 'case43', 'case55', 'case141',\n",
              "       'case92', 'case16', 'case131', 'case81', 'case34', 'case36',\n",
              "       'case20', 'case121', 'case29', 'case18', 'case138', 'case146',\n",
              "       'case144', 'case40', 'case54', 'case78', 'case47', 'case156',\n",
              "       'case85', 'case107', 'case41', 'case80', 'case2', 'case74',\n",
              "       'case30'], dtype=object)"
            ]
          },
          "metadata": {}
        },
        {
          "output_type": "stream",
          "name": "stdout",
          "text": [
            "85\n"
          ]
        }
      ]
    },
    {
      "cell_type": "code",
      "source": [
        "# count how many original files \n",
        "import os.path  \n",
        "import glob  \n",
        "folder = glob.glob(\"train/*\")\n",
        "len(folder)"
      ],
      "metadata": {
        "colab": {
          "base_uri": "https://localhost:8080/"
        },
        "id": "w3xEMJLjAb9i",
        "outputId": "0dbebd6f-b1c9-4159-823c-5206e66ac987"
      },
      "execution_count": 29,
      "outputs": [
        {
          "output_type": "execute_result",
          "data": {
            "text/plain": [
              "85"
            ]
          },
          "metadata": {},
          "execution_count": 29
        }
      ]
    },
    {
      "cell_type": "markdown",
      "source": [
        "This means that all cases within train folder has some slices that have segmentation mask, but not all slices are for each case have segmentation mask."
      ],
      "metadata": {
        "id": "o9m97jc9BEsl"
      }
    },
    {
      "cell_type": "code",
      "source": [
        "import os\n",
        "\n",
        "def list_files(dir):                                                                                                  \n",
        "    r = []                                                                                                            \n",
        "    subdirs = [x[0] for x in os.walk(dir)]                                                                            \n",
        "    for subdir in subdirs:                                                                                            \n",
        "        files = os.walk(subdir).__next__()[2]                                                                             \n",
        "        if (len(files) > 0):                                                                                          \n",
        "            for file in files:                                                                                        \n",
        "                r.append(os.path.join(subdir, file))                                                                      \n",
        "    return r                "
      ],
      "metadata": {
        "id": "g2GrmiRNsq3_"
      },
      "execution_count": 49,
      "outputs": []
    },
    {
      "cell_type": "code",
      "source": [
        "len(list_files('train'))"
      ],
      "metadata": {
        "id": "D84sdkCGsuXG",
        "outputId": "29161fb6-f86d-485b-a3ec-f21bdfea760f",
        "colab": {
          "base_uri": "https://localhost:8080/"
        }
      },
      "execution_count": 51,
      "outputs": [
        {
          "output_type": "execute_result",
          "data": {
            "text/plain": [
              "38496"
            ]
          },
          "metadata": {},
          "execution_count": 51
        }
      ]
    },
    {
      "cell_type": "code",
      "source": [
        "list_files('train')[0]"
      ],
      "metadata": {
        "id": "jf71SUe0vQXV",
        "outputId": "dad8ca6f-2b5c-4942-fab6-d2736046a6f2",
        "colab": {
          "base_uri": "https://localhost:8080/",
          "height": 35
        }
      },
      "execution_count": 53,
      "outputs": [
        {
          "output_type": "execute_result",
          "data": {
            "text/plain": [
              "'train/case130/case130_day20/scans/slice_0138_266_266_1.50_1.50.png'"
            ],
            "application/vnd.google.colaboratory.intrinsic+json": {
              "type": "string"
            }
          },
          "metadata": {},
          "execution_count": 53
        }
      ]
    },
    {
      "cell_type": "code",
      "source": [
        "from pathlib import PurePath"
      ],
      "metadata": {
        "id": "jEdgEOlczkmH"
      },
      "execution_count": 60,
      "outputs": []
    },
    {
      "cell_type": "code",
      "source": [
        "def changefilename(dir):                                                                                                                                                                                                                \n",
        "    subdirs = [x[0] for x in os.walk(dir)]                                                                            \n",
        "    for subdir in subdirs:                                                                                            \n",
        "        files = os.walk(subdir).__next__()[2]                                                                             \n",
        "        if (len(files) > 0):                                                                                          \n",
        "            for file in files:\n",
        "                # print(subdir) # train/case130/case130_day20/scans\n",
        "                prefix = PurePath(subdir).parts[2] + '_'\n",
        "                base_filename = re.split(r'(slice_\\d{4})', file)[1]\n",
        "                print(base_filename)\n",
        "                #suffix = '.png'\n",
        "                #dst_dir = 'drive/MyDrive/Colab Notebooks/working_directory'\n",
        "                #x = os.path.join(dst_dir, prefix + base_filename + suffix)\n",
        "                #print(x)\n",
        "                break\n",
        "                # rename files and put copy in working_directory                                                                                   \n",
        "    #return working_directory  "
      ],
      "metadata": {
        "id": "kcbApBMjulpc"
      },
      "execution_count": 111,
      "outputs": []
    },
    {
      "cell_type": "code",
      "source": [
        "changefilename('train')"
      ],
      "metadata": {
        "id": "CrnB_H-F2aYy",
        "outputId": "cb6711ee-64d4-4a3a-a08f-296b9e1f2b70",
        "colab": {
          "base_uri": "https://localhost:8080/"
        }
      },
      "execution_count": 112,
      "outputs": [
        {
          "output_type": "stream",
          "name": "stdout",
          "text": [
            "slice_0138\n",
            "slice_0138\n",
            "slice_0138\n",
            "slice_0138\n",
            "slice_0138\n",
            "slice_0138\n",
            "slice_0138\n",
            "slice_0138\n",
            "slice_0138\n",
            "slice_0138\n",
            "slice_0067\n",
            "slice_0138\n",
            "slice_0138\n",
            "slice_0012\n",
            "slice_0012\n",
            "slice_0012\n",
            "slice_0012\n",
            "slice_0138\n",
            "slice_0138\n",
            "slice_0138\n",
            "slice_0138\n",
            "slice_0138\n",
            "slice_0138\n",
            "slice_0138\n",
            "slice_0138\n",
            "slice_0138\n",
            "slice_0138\n",
            "slice_0138\n",
            "slice_0007\n",
            "slice_0007\n",
            "slice_0007\n",
            "slice_0138\n",
            "slice_0138\n",
            "slice_0138\n",
            "slice_0138\n",
            "slice_0138\n",
            "slice_0138\n",
            "slice_0138\n",
            "slice_0138\n",
            "slice_0138\n",
            "slice_0138\n",
            "slice_0138\n",
            "slice_0138\n",
            "slice_0138\n",
            "slice_0138\n",
            "slice_0138\n",
            "slice_0138\n",
            "slice_0138\n",
            "slice_0138\n",
            "slice_0138\n",
            "slice_0138\n",
            "slice_0138\n",
            "slice_0138\n",
            "slice_0138\n",
            "slice_0138\n",
            "slice_0138\n",
            "slice_0007\n",
            "slice_0138\n",
            "slice_0138\n",
            "slice_0007\n",
            "slice_0012\n",
            "slice_0138\n",
            "slice_0007\n",
            "slice_0007\n",
            "slice_0138\n",
            "slice_0138\n",
            "slice_0138\n",
            "slice_0138\n",
            "slice_0007\n",
            "slice_0138\n",
            "slice_0138\n",
            "slice_0138\n",
            "slice_0138\n",
            "slice_0007\n",
            "slice_0007\n",
            "slice_0007\n",
            "slice_0138\n",
            "slice_0138\n",
            "slice_0138\n",
            "slice_0007\n",
            "slice_0007\n",
            "slice_0007\n",
            "slice_0138\n",
            "slice_0138\n",
            "slice_0138\n",
            "slice_0138\n",
            "slice_0138\n",
            "slice_0138\n",
            "slice_0138\n",
            "slice_0007\n",
            "slice_0007\n",
            "slice_0138\n",
            "slice_0138\n",
            "slice_0138\n",
            "slice_0138\n",
            "slice_0007\n",
            "slice_0007\n",
            "slice_0007\n",
            "slice_0007\n",
            "slice_0007\n",
            "slice_0007\n",
            "slice_0007\n",
            "slice_0007\n",
            "slice_0138\n",
            "slice_0138\n",
            "slice_0138\n",
            "slice_0138\n",
            "slice_0138\n",
            "slice_0007\n",
            "slice_0007\n",
            "slice_0007\n",
            "slice_0012\n",
            "slice_0007\n",
            "slice_0007\n",
            "slice_0007\n",
            "slice_0007\n",
            "slice_0138\n",
            "slice_0138\n",
            "slice_0138\n",
            "slice_0007\n",
            "slice_0007\n",
            "slice_0007\n",
            "slice_0007\n",
            "slice_0007\n",
            "slice_0007\n",
            "slice_0007\n",
            "slice_0007\n",
            "slice_0007\n",
            "slice_0007\n",
            "slice_0007\n",
            "slice_0007\n",
            "slice_0007\n",
            "slice_0012\n",
            "slice_0012\n",
            "slice_0012\n",
            "slice_0138\n",
            "slice_0007\n",
            "slice_0007\n",
            "slice_0138\n",
            "slice_0138\n",
            "slice_0138\n",
            "slice_0138\n",
            "slice_0138\n",
            "slice_0138\n",
            "slice_0138\n",
            "slice_0138\n",
            "slice_0138\n",
            "slice_0138\n",
            "slice_0007\n",
            "slice_0138\n",
            "slice_0138\n",
            "slice_0007\n",
            "slice_0007\n",
            "slice_0138\n",
            "slice_0007\n",
            "slice_0007\n",
            "slice_0007\n",
            "slice_0007\n",
            "slice_0007\n",
            "slice_0138\n",
            "slice_0138\n",
            "slice_0138\n",
            "slice_0138\n",
            "slice_0012\n",
            "slice_0138\n",
            "slice_0138\n",
            "slice_0138\n",
            "slice_0138\n",
            "slice_0138\n",
            "slice_0138\n",
            "slice_0138\n",
            "slice_0138\n",
            "slice_0138\n",
            "slice_0138\n",
            "slice_0138\n",
            "slice_0138\n",
            "slice_0138\n",
            "slice_0138\n",
            "slice_0138\n",
            "slice_0138\n",
            "slice_0012\n",
            "slice_0138\n",
            "slice_0138\n",
            "slice_0138\n",
            "slice_0007\n",
            "slice_0138\n",
            "slice_0138\n",
            "slice_0138\n",
            "slice_0138\n",
            "slice_0138\n",
            "slice_0138\n",
            "slice_0007\n",
            "slice_0007\n",
            "slice_0007\n",
            "slice_0138\n",
            "slice_0138\n",
            "slice_0138\n",
            "slice_0138\n",
            "slice_0138\n",
            "slice_0138\n",
            "slice_0007\n",
            "slice_0138\n",
            "slice_0138\n",
            "slice_0138\n",
            "slice_0138\n",
            "slice_0138\n",
            "slice_0138\n",
            "slice_0138\n",
            "slice_0138\n",
            "slice_0138\n",
            "slice_0138\n",
            "slice_0138\n",
            "slice_0138\n",
            "slice_0138\n",
            "slice_0138\n",
            "slice_0138\n",
            "slice_0138\n",
            "slice_0138\n",
            "slice_0007\n",
            "slice_0007\n",
            "slice_0138\n",
            "slice_0138\n",
            "slice_0138\n",
            "slice_0138\n",
            "slice_0138\n",
            "slice_0138\n",
            "slice_0012\n",
            "slice_0012\n",
            "slice_0012\n",
            "slice_0012\n",
            "slice_0138\n",
            "slice_0138\n",
            "slice_0138\n",
            "slice_0138\n",
            "slice_0138\n",
            "slice_0138\n",
            "slice_0007\n",
            "slice_0007\n",
            "slice_0007\n",
            "slice_0007\n",
            "slice_0007\n",
            "slice_0007\n",
            "slice_0007\n",
            "slice_0138\n",
            "slice_0138\n",
            "slice_0138\n",
            "slice_0138\n",
            "slice_0138\n",
            "slice_0138\n",
            "slice_0007\n",
            "slice_0007\n",
            "slice_0007\n",
            "slice_0007\n",
            "slice_0007\n",
            "slice_0007\n",
            "slice_0007\n",
            "slice_0138\n",
            "slice_0138\n",
            "slice_0138\n",
            "slice_0138\n",
            "slice_0138\n",
            "slice_0138\n",
            "slice_0138\n",
            "slice_0138\n",
            "slice_0138\n",
            "slice_0007\n",
            "slice_0007\n",
            "slice_0007\n",
            "slice_0138\n",
            "slice_0138\n",
            "slice_0138\n",
            "slice_0138\n",
            "slice_0138\n",
            "slice_0138\n"
          ]
        }
      ]
    },
    {
      "cell_type": "code",
      "source": [
        "import re\n",
        "from glob import glob\n",
        "\n",
        "for filename in glob(\"train/case101/case101_day20/scans/*.png\"):\n",
        "  print(filename)\n",
        "  base_filename = re.split('train/case101/case101_day20/scans/', filename)[-1].split('_266')[0]\n",
        "  suffix = '.png'\n",
        "  prefix = 'case101_day20_'\n",
        "  dst_dir = 'drive/MyDrive/Colab Notebooks/working_directory'\n",
        "  x = os.path.join(dst_dir, prefix + base_filename + suffix)\n",
        "  print(x)\n",
        "  break"
      ],
      "metadata": {
        "colab": {
          "base_uri": "https://localhost:8080/"
        },
        "id": "CgWLhs47IAhs",
        "outputId": "dadf176b-1ec7-46a6-b7f9-bc83b14a8298"
      },
      "execution_count": 38,
      "outputs": [
        {
          "output_type": "stream",
          "name": "stdout",
          "text": [
            "train/case101/case101_day20/scans/slice_0138_266_266_1.50_1.50.png\n",
            "drive/MyDrive/Colab Notebooks/working_directory/case101_day20_slice_0138.png\n"
          ]
        }
      ]
    },
    {
      "cell_type": "code",
      "source": [
        "# extract case files and put into a working directory\n"
      ],
      "metadata": {
        "id": "Dm3UnCli_7ev"
      },
      "execution_count": null,
      "outputs": []
    }
  ]
}